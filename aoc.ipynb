{
 "cells": [
  {
   "cell_type": "code",
   "execution_count": 1,
   "metadata": {
    "collapsed": true
   },
   "outputs": [],
   "source": [
    "import numpy as np\n",
    "from io import StringIO"
   ]
  },
  {
   "cell_type": "markdown",
   "source": [
    "# Day 1"
   ],
   "metadata": {
    "collapsed": false,
    "pycharm": {
     "name": "#%% md\n"
    }
   }
  },
  {
   "cell_type": "code",
   "execution_count": 25,
   "outputs": [
    {
     "name": "stdout",
     "output_type": "stream",
     "text": [
      "1390\n",
      "1457\n"
     ]
    }
   ],
   "source": [
    "#day 1\n",
    "input = np.loadtxt(\"input1.txt\", dtype='int')\n",
    "result = 0\n",
    "for i in np.arange(input.size -1):\n",
    "    if input[i+1] > input[i]:\n",
    "        result += 1\n",
    "print(result)\n",
    "\n",
    "#part 2\n",
    "sums = np.array(input[:input.size-2])\n",
    "sums[:] += input[1:input.size-1]\n",
    "sums[:] += input[2:]\n",
    "result = 0\n",
    "for i in np.arange(sums.size -1):\n",
    "    if sums[i+1] > sums[i]:\n",
    "        result += 1\n",
    "print(result)"
   ],
   "metadata": {
    "collapsed": false,
    "pycharm": {
     "name": "#%%\n"
    }
   }
  },
  {
   "cell_type": "markdown",
   "source": [
    "# Day 2"
   ],
   "metadata": {
    "collapsed": false,
    "pycharm": {
     "name": "#%% md\n"
    }
   }
  },
  {
   "cell_type": "code",
   "execution_count": 24,
   "outputs": [
    {
     "name": "stdout",
     "output_type": "stream",
     "text": [
      "Part A:1714680\n",
      "Part B:1963088820\n"
     ]
    }
   ],
   "source": [
    "#day 2\n",
    "command = np.loadtxt(\"input2.txt\", dtype='str', usecols=0)\n",
    "value = np.loadtxt(\"input2.txt\", dtype='int', usecols=1)\n",
    "\n",
    "horizontal = 0\n",
    "aim = 0\n",
    "vertical = 0\n",
    "\n",
    "for i in np.arange(command.size):\n",
    "    if command[i]==\"forward\":\n",
    "        horizontal += value[i]\n",
    "        vertical += aim*value[i]\n",
    "    elif command[i]==\"up\":\n",
    "        aim -= value[i]\n",
    "    else:\n",
    "        aim += value[i]\n",
    "\n",
    "print(\"Part A:\" + str(horizontal*aim))\n",
    "\n",
    "print(\"Part B:\" + str(horizontal*vertical))"
   ],
   "metadata": {
    "collapsed": false,
    "pycharm": {
     "name": "#%%\n"
    }
   }
  },
  {
   "cell_type": "markdown",
   "source": [
    "# Day 3"
   ],
   "metadata": {
    "collapsed": false,
    "pycharm": {
     "name": "#%% md\n"
    }
   }
  },
  {
   "cell_type": "code",
   "execution_count": 18,
   "outputs": [
    {
     "data": {
      "text/plain": "array(['forward', 'forward', 'down', 'forward', 'forward', 'down', 'down',\n       'down', 'forward', 'forward', 'up', 'forward', 'forward',\n       'forward', 'down', 'forward', 'forward', 'up', 'forward',\n       'forward', 'up', 'down', 'down', 'up', 'forward', 'down', 'down',\n       'down', 'forward', 'forward', 'down', 'forward', 'down', 'down',\n       'forward', 'forward', 'down', 'forward', 'up', 'up', 'forward',\n       'down', 'down', 'down', 'down', 'forward', 'down', 'forward', 'up',\n       'down', 'forward', 'forward', 'up', 'up', 'up', 'forward', 'down',\n       'forward', 'forward', 'forward', 'down', 'forward', 'up',\n       'forward', 'down', 'down', 'down', 'down', 'down', 'down', 'down',\n       'forward', 'forward', 'forward', 'up', 'up', 'forward', 'forward',\n       'forward', 'down', 'up', 'forward', 'forward', 'down', 'forward',\n       'down', 'down', 'up', 'down', 'forward', 'up', 'forward', 'down',\n       'down', 'down', 'down', 'up', 'forward', 'forward', 'down',\n       'forward', 'down', 'down', 'forward', 'up', 'down', 'up', 'down',\n       'down', 'down', 'forward', 'down', 'forward', 'down', 'down', 'up',\n       'down', 'forward', 'forward', 'down', 'up', 'down', 'up', 'up',\n       'up', 'forward', 'forward', 'down', 'down', 'up', 'down',\n       'forward', 'down', 'down', 'forward', 'up', 'forward', 'forward',\n       'down', 'forward', 'up', 'forward', 'down', 'down', 'forward',\n       'down', 'down', 'up', 'down', 'forward', 'up', 'forward',\n       'forward', 'forward', 'down', 'down', 'forward', 'down', 'down',\n       'forward', 'up', 'down', 'down', 'forward', 'down', 'up', 'up',\n       'down', 'down', 'forward', 'down', 'down', 'forward', 'up',\n       'forward', 'down', 'down', 'forward', 'forward', 'down', 'up',\n       'up', 'up', 'forward', 'up', 'down', 'down', 'up', 'up', 'down',\n       'forward', 'forward', 'down', 'up', 'down', 'down', 'up',\n       'forward', 'up', 'forward', 'down', 'forward', 'forward',\n       'forward', 'forward', 'down', 'forward', 'forward', 'down',\n       'forward', 'up', 'up', 'up', 'down', 'down', 'up', 'down', 'up',\n       'up', 'forward', 'down', 'forward', 'down', 'forward', 'forward',\n       'down', 'down', 'down', 'forward', 'forward', 'forward', 'forward',\n       'down', 'down', 'down', 'forward', 'up', 'down', 'forward',\n       'forward', 'down', 'up', 'forward', 'down', 'up', 'down', 'down',\n       'forward', 'up', 'down', 'down', 'down', 'forward', 'up',\n       'forward', 'down', 'forward', 'down', 'forward', 'forward',\n       'forward', 'down', 'down', 'forward', 'down', 'forward', 'forward',\n       'down', 'forward', 'forward', 'up', 'forward', 'down', 'down',\n       'down', 'up', 'down', 'forward', 'forward', 'down', 'up', 'up',\n       'down', 'down', 'down', 'forward', 'forward', 'down', 'up', 'down',\n       'down', 'down', 'down', 'forward', 'forward', 'down', 'down',\n       'down', 'down', 'down', 'up', 'down', 'up', 'up', 'forward', 'up',\n       'forward', 'down', 'down', 'down', 'forward', 'down', 'up', 'up',\n       'down', 'up', 'up', 'down', 'down', 'forward', 'up', 'down',\n       'down', 'forward', 'up', 'forward', 'forward', 'up', 'up', 'down',\n       'up', 'forward', 'down', 'up', 'down', 'forward', 'forward',\n       'forward', 'down', 'down', 'down', 'forward', 'down', 'forward',\n       'down', 'down', 'up', 'forward', 'forward', 'forward', 'forward',\n       'up', 'down', 'down', 'up', 'forward', 'forward', 'forward',\n       'forward', 'forward', 'forward', 'down', 'up', 'forward', 'down',\n       'forward', 'down', 'down', 'forward', 'down', 'forward', 'down',\n       'forward', 'down', 'forward', 'up', 'down', 'down', 'up', 'down',\n       'up', 'up', 'down', 'forward', 'forward', 'down', 'down', 'up',\n       'forward', 'forward', 'down', 'forward', 'down', 'up', 'down',\n       'down', 'down', 'forward', 'down', 'down', 'down', 'forward',\n       'forward', 'up', 'down', 'down', 'up', 'down', 'forward',\n       'forward', 'down', 'forward', 'forward', 'forward', 'down', 'down',\n       'forward', 'up', 'forward', 'forward', 'up', 'down', 'forward',\n       'forward', 'forward', 'forward', 'forward', 'forward', 'forward',\n       'forward', 'down', 'forward', 'up', 'up', 'forward', 'forward',\n       'forward', 'up', 'down', 'forward', 'forward', 'forward',\n       'forward', 'forward', 'forward', 'forward', 'up', 'down', 'up',\n       'down', 'down', 'forward', 'forward', 'down', 'forward', 'down',\n       'down', 'down', 'down', 'down', 'up', 'forward', 'forward', 'up',\n       'up', 'forward', 'forward', 'forward', 'forward', 'forward',\n       'down', 'forward', 'down', 'forward', 'up', 'forward', 'down',\n       'forward', 'down', 'forward', 'up', 'forward', 'down', 'forward',\n       'forward', 'up', 'up', 'up', 'down', 'forward', 'down', 'down',\n       'down', 'down', 'down', 'up', 'forward', 'up', 'forward', 'up',\n       'down', 'forward', 'down', 'forward', 'forward', 'down', 'up',\n       'forward', 'up', 'up', 'down', 'forward', 'down', 'up', 'forward',\n       'down', 'down', 'down', 'forward', 'forward', 'forward', 'down',\n       'forward', 'forward', 'up', 'forward', 'forward', 'forward',\n       'forward', 'forward', 'down', 'up', 'up', 'forward', 'down',\n       'down', 'down', 'forward', 'forward', 'up', 'up', 'forward',\n       'down', 'down', 'forward', 'up', 'down', 'down', 'up', 'forward',\n       'up', 'forward', 'forward', 'down', 'forward', 'down', 'forward',\n       'forward', 'forward', 'forward', 'forward', 'forward', 'forward',\n       'down', 'down', 'down', 'down', 'down', 'down', 'up', 'down',\n       'down', 'forward', 'down', 'up', 'down', 'forward', 'forward',\n       'up', 'forward', 'down', 'forward', 'forward', 'forward', 'down',\n       'up', 'down', 'down', 'forward', 'down', 'down', 'forward', 'down',\n       'down', 'up', 'down', 'down', 'down', 'up', 'down', 'down', 'down',\n       'up', 'up', 'down', 'down', 'forward', 'down', 'down', 'forward',\n       'forward', 'forward', 'forward', 'down', 'down', 'forward', 'up',\n       'up', 'down', 'down', 'forward', 'forward', 'forward', 'forward',\n       'forward', 'forward', 'down', 'down', 'up', 'down', 'down', 'up',\n       'down', 'down', 'forward', 'down', 'forward', 'forward', 'down',\n       'forward', 'forward', 'forward', 'down', 'forward', 'down',\n       'forward', 'down', 'forward', 'up', 'forward', 'down', 'down',\n       'up', 'forward', 'up', 'forward', 'forward', 'down', 'forward',\n       'down', 'up', 'forward', 'forward', 'forward', 'forward', 'up',\n       'forward', 'down', 'forward', 'forward', 'forward', 'down', 'down',\n       'up', 'down', 'forward', 'forward', 'up', 'forward', 'forward',\n       'down', 'down', 'up', 'up', 'forward', 'down', 'forward', 'down',\n       'down', 'forward', 'forward', 'down', 'forward', 'down', 'down',\n       'forward', 'forward', 'forward', 'down', 'forward', 'forward',\n       'forward', 'down', 'down', 'up', 'down', 'down', 'up', 'down',\n       'up', 'forward', 'down', 'down', 'forward', 'up', 'forward', 'up',\n       'forward', 'forward', 'forward', 'down', 'up', 'forward',\n       'forward', 'forward', 'forward', 'forward', 'down', 'forward',\n       'up', 'forward', 'down', 'forward', 'forward', 'forward', 'up',\n       'up', 'down', 'forward', 'down', 'down', 'forward', 'forward',\n       'down', 'down', 'down', 'down', 'up', 'up', 'forward', 'forward',\n       'down', 'forward', 'up', 'forward', 'down', 'forward', 'down',\n       'down', 'down', 'down', 'up', 'down', 'down', 'forward', 'down',\n       'up', 'up', 'forward', 'forward', 'down', 'forward', 'forward',\n       'up', 'up', 'forward', 'down', 'down', 'up', 'down', 'up',\n       'forward', 'up', 'up', 'forward', 'forward', 'forward', 'forward',\n       'down', 'forward', 'forward', 'forward', 'forward', 'down', 'up',\n       'forward', 'down', 'forward', 'forward', 'forward', 'down', 'up',\n       'forward', 'down', 'up', 'forward', 'down', 'down', 'down',\n       'forward', 'down', 'forward', 'down', 'forward', 'forward',\n       'forward', 'down', 'down', 'forward', 'up', 'forward', 'down',\n       'up', 'forward', 'down', 'down', 'down', 'up', 'down', 'down',\n       'down', 'forward', 'up', 'up', 'forward', 'forward', 'forward',\n       'forward', 'forward', 'forward', 'down', 'forward', 'forward',\n       'down', 'forward', 'forward', 'up', 'up', 'forward', 'down',\n       'down', 'down', 'forward', 'forward', 'down', 'forward', 'up',\n       'down', 'down', 'forward', 'forward', 'up', 'down', 'forward',\n       'up', 'up', 'forward', 'forward', 'up', 'up', 'forward', 'forward',\n       'forward', 'forward', 'down', 'up', 'forward', 'down', 'forward',\n       'forward', 'down', 'down', 'down', 'forward', 'up', 'down',\n       'forward', 'forward', 'down', 'down', 'up', 'down', 'up', 'up',\n       'forward', 'forward', 'up', 'down', 'down', 'down', 'forward',\n       'forward', 'forward', 'down', 'forward', 'down', 'down', 'forward',\n       'up', 'forward', 'up', 'forward', 'up', 'forward', 'forward',\n       'down', 'down', 'forward', 'forward', 'up', 'down', 'up', 'down',\n       'up', 'up', 'forward', 'forward', 'down', 'down', 'forward', 'up',\n       'up', 'down', 'down', 'down', 'down', 'up', 'forward', 'forward',\n       'up', 'up', 'up', 'down', 'up', 'forward', 'down', 'forward', 'up',\n       'down', 'forward', 'forward', 'up', 'down', 'down', 'up', 'down',\n       'up', 'forward', 'down', 'down', 'down', 'up', 'down', 'down',\n       'up', 'forward', 'forward', 'down', 'forward', 'down', 'up',\n       'forward', 'forward', 'down', 'forward', 'forward', 'down', 'down',\n       'forward', 'up', 'forward', 'up', 'down', 'down', 'up', 'up',\n       'forward', 'down', 'up', 'down', 'up', 'forward', 'up', 'up',\n       'down', 'down', 'up', 'up', 'down', 'forward'], dtype='<U7')"
     },
     "execution_count": 18,
     "metadata": {},
     "output_type": "execute_result"
    }
   ],
   "source": [
    "command"
   ],
   "metadata": {
    "collapsed": false,
    "pycharm": {
     "name": "#%%\n"
    }
   }
  },
  {
   "cell_type": "code",
   "execution_count": 19,
   "outputs": [
    {
     "data": {
      "text/plain": "2000"
     },
     "execution_count": 19,
     "metadata": {},
     "output_type": "execute_result"
    }
   ],
   "source": [
    "input.size"
   ],
   "metadata": {
    "collapsed": false,
    "pycharm": {
     "name": "#%%\n"
    }
   }
  },
  {
   "cell_type": "code",
   "execution_count": 26,
   "outputs": [
    {
     "data": {
      "text/plain": "array([578, 586, 596])"
     },
     "execution_count": 26,
     "metadata": {},
     "output_type": "execute_result"
    }
   ],
   "source": [
    "sums[:3]"
   ],
   "metadata": {
    "collapsed": false,
    "pycharm": {
     "name": "#%%\n"
    }
   }
  },
  {
   "cell_type": "code",
   "execution_count": 27,
   "outputs": [
    {
     "data": {
      "text/plain": "array([189, 190, 199, 197, 200])"
     },
     "execution_count": 27,
     "metadata": {},
     "output_type": "execute_result"
    }
   ],
   "source": [
    "input[:5]"
   ],
   "metadata": {
    "collapsed": false,
    "pycharm": {
     "name": "#%%\n"
    }
   }
  },
  {
   "cell_type": "code",
   "execution_count": null,
   "outputs": [],
   "source": [],
   "metadata": {
    "collapsed": false,
    "pycharm": {
     "name": "#%%\n"
    }
   }
  }
 ],
 "metadata": {
  "kernelspec": {
   "display_name": "Python 3",
   "language": "python",
   "name": "python3"
  },
  "language_info": {
   "codemirror_mode": {
    "name": "ipython",
    "version": 2
   },
   "file_extension": ".py",
   "mimetype": "text/x-python",
   "name": "python",
   "nbconvert_exporter": "python",
   "pygments_lexer": "ipython2",
   "version": "2.7.6"
  }
 },
 "nbformat": 4,
 "nbformat_minor": 0
}
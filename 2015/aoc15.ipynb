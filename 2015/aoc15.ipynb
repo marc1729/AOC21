{
 "cells": [
  {
   "cell_type": "markdown",
   "metadata": {
    "collapsed": true,
    "pycharm": {
     "name": "#%% md\n"
    }
   },
   "source": [
    "# Imports"
   ]
  },
  {
   "cell_type": "code",
   "execution_count": 1,
   "outputs": [],
   "source": [
    "import numpy as np\n",
    "import matplotlib.pyplot as plt\n",
    "import pandas as pd\n",
    "import hashlib"
   ],
   "metadata": {
    "collapsed": false,
    "pycharm": {
     "name": "#%%\n"
    }
   }
  },
  {
   "cell_type": "markdown",
   "source": [
    "# Day 1"
   ],
   "metadata": {
    "collapsed": false,
    "pycharm": {
     "name": "#%% md\n"
    }
   }
  },
  {
   "cell_type": "code",
   "execution_count": 6,
   "outputs": [
    {
     "name": "stdout",
     "output_type": "stream",
     "text": [
      "Part 1:  138\n"
     ]
    }
   ],
   "source": [
    "# day 1 part 1\n",
    "up = np.loadtxt(\"input1.txt\", dtype='str', delimiter='(').size\n",
    "down = np.loadtxt(\"input1.txt\", dtype='str', delimiter=')').size\n",
    "\n",
    "print(\"Part 1: \", up-down)"
   ],
   "metadata": {
    "collapsed": false,
    "pycharm": {
     "name": "#%%\n"
    }
   }
  },
  {
   "cell_type": "code",
   "execution_count": 14,
   "outputs": [
    {
     "name": "stdout",
     "output_type": "stream",
     "text": [
      "Part 2:  1771\n"
     ]
    },
    {
     "data": {
      "text/plain": "<Figure size 720x576 with 1 Axes>",
      "image/png": "[encoded data removed]"
     },
     "metadata": {
      "needs_background": "light"
     },
     "output_type": "display_data"
    }
   ],
   "source": [
    "# day 1 part 2\n",
    "data = str(np.loadtxt(\"input1.txt\", dtype='str'))\n",
    "\n",
    "index = 0\n",
    "position = 0\n",
    "plt.figure(figsize=(10,8))\n",
    "\n",
    "while position >= 0:\n",
    "    if data[index] == '(':\n",
    "        position += 1\n",
    "    else:\n",
    "        position -= 1\n",
    "    index += 1\n",
    "    plt.plot(index,position,'b.')\n",
    "\n",
    "print(\"Part 2: \", index)\n",
    "plt.show()"
   ],
   "metadata": {
    "collapsed": false,
    "pycharm": {
     "name": "#%%\n"
    }
   }
  },
  {
   "cell_type": "markdown",
   "source": [
    "# Day 2"
   ],
   "metadata": {
    "collapsed": false,
    "pycharm": {
     "name": "#%% md\n"
    }
   }
  },
  {
   "cell_type": "code",
   "execution_count": 29,
   "outputs": [
    {
     "name": "stdout",
     "output_type": "stream",
     "text": [
      "Part 1:  1598415\n",
      "Part 2:  3812909\n"
     ]
    }
   ],
   "source": [
    "# day 2 part 1\n",
    "data = np.loadtxt(\"input2.txt\", delimiter='x', dtype='int')\n",
    "\n",
    "area = np.zeros((data.size,3))\n",
    "\n",
    "area1 = data[:,0]*data[:,1]\n",
    "area2 = data[:,0]*data[:,2]\n",
    "area3 = data[:,1]*data[:,2]\n",
    "\n",
    "result = np.sum(np.min([area1,area2,area3],axis=0))\n",
    "\n",
    "result += 2*np.sum(area1)\n",
    "result += 2*np.sum(area2)\n",
    "result += 2*np.sum(area3)\n",
    "\n",
    "print(\"Part 1: \", result)\n",
    "\n",
    "# part 2\n",
    "result2 = np.sum(data[:,0]*data[:,1]*data[:,2]) # ribbon for bow\n",
    "\n",
    "result2 += np.sum(2*(np.sum(data,axis=1) - np.max(data,axis=1)))\n",
    "\n",
    "print(\"Part 2: \", result2)"
   ],
   "metadata": {
    "collapsed": false,
    "pycharm": {
     "name": "#%%\n"
    }
   }
  },
  {
   "cell_type": "markdown",
   "source": [
    "# Day 3"
   ],
   "metadata": {
    "collapsed": false,
    "pycharm": {
     "name": "#%% md\n"
    }
   }
  },
  {
   "cell_type": "code",
   "execution_count": 12,
   "outputs": [
    {
     "name": "stdout",
     "output_type": "stream",
     "text": [
      "Part 1:  2565\n"
     ]
    }
   ],
   "source": [
    "# day 3 part 1\n",
    "#initialise coordinates\n",
    "x = 0\n",
    "y = 0\n",
    "\n",
    "# read santa's instructions\n",
    "input = str(np.genfromtxt(\"input3.txt\", dtype='str'))\n",
    "\n",
    "# initialise set of houses visited\n",
    "houses = {(0,0)}\n",
    "\n",
    "for instruction in input:\n",
    "    # update position\n",
    "    x += (instruction == '>')\n",
    "    x -= (instruction == '<')\n",
    "    y += (instruction == '^')\n",
    "    y -= (instruction == 'v')\n",
    "    houses.add((x,y))\n",
    "\n",
    "print(\"Part 1: \", len(houses))"
   ],
   "metadata": {
    "collapsed": false,
    "pycharm": {
     "name": "#%%\n"
    }
   }
  },
  {
   "cell_type": "code",
   "execution_count": 18,
   "outputs": [
    {
     "name": "stdout",
     "output_type": "stream",
     "text": [
      "Part 2:  2639\n"
     ]
    }
   ],
   "source": [
    "# day 3 part 2\n",
    "#initialise coordinates\n",
    "x1 = 0\n",
    "y1 = 0\n",
    "x2 = 0\n",
    "y2 = 0\n",
    "\n",
    "# read santa's instructions\n",
    "input = str(np.genfromtxt(\"./input3.txt\", dtype='str'))\n",
    "\n",
    "# initialise set of houses visited\n",
    "houses = {(0,0)}\n",
    "\n",
    "santa = True\n",
    "\n",
    "for instruction in input:\n",
    "    # update position\n",
    "    if santa:\n",
    "        x1 += (instruction == '>')\n",
    "        x1 -= (instruction == '<')\n",
    "        y1 += (instruction == '^')\n",
    "        y1 -= (instruction == 'v')\n",
    "        houses.add((x1,y1))\n",
    "        santa = not santa\n",
    "    else:\n",
    "        x2 += (instruction == '>')\n",
    "        x2 -= (instruction == '<')\n",
    "        y2 += (instruction == '^')\n",
    "        y2 -= (instruction == 'v')\n",
    "        houses.add((x2,y2))\n",
    "        santa = not santa\n",
    "\n",
    "print(\"Part 2: \", len(houses))"
   ],
   "metadata": {
    "collapsed": false,
    "pycharm": {
     "name": "#%%\n"
    }
   }
  },
  {
   "cell_type": "markdown",
   "source": [
    "# Day 4"
   ],
   "metadata": {
    "collapsed": false,
    "pycharm": {
     "name": "#%% md\n"
    }
   }
  },
  {
   "cell_type": "code",
   "execution_count": null,
   "outputs": [],
   "source": [
    "# day 4\n",
    "input = \"yzbqklnj\"\n",
    "\n",
    "result1 = 1\n",
    "\n",
    "while True:\n",
    "    if hashlib.md5((input+str(result1)).encode()).hexdigest()[:5] == '00000':\n",
    "        break\n",
    "    else:\n",
    "        result1 += 1\n",
    "\n",
    "print(\"Part 1: \", result1)"
   ],
   "metadata": {
    "collapsed": false,
    "pycharm": {
     "name": "#%%\n"
    }
   }
  },
  {
   "cell_type": "code",
   "execution_count": 27,
   "outputs": [
    {
     "name": "stdout",
     "output_type": "stream",
     "text": [
      "Part 2:  9962624\n"
     ]
    }
   ],
   "source": [
    "# day 4\n",
    "input = \"yzbqklnj\"\n",
    "\n",
    "result2 = 1\n",
    "\n",
    "while True:\n",
    "    if hashlib.md5((input+str(result2)).encode()).hexdigest()[:6] == '000000':\n",
    "        break\n",
    "    else:\n",
    "        result2 += 1\n",
    "\n",
    "print(\"Part 2: \", result2)"
   ],
   "metadata": {
    "collapsed": false,
    "pycharm": {
     "name": "#%%\n"
    }
   }
  },
  {
   "cell_type": "markdown",
   "source": [
    "# Day 5"
   ],
   "metadata": {
    "collapsed": false,
    "pycharm": {
     "name": "#%% md\n"
    }
   }
  },
  {
   "cell_type": "code",
   "execution_count": 56,
   "outputs": [
    {
     "name": "stdout",
     "output_type": "stream",
     "text": [
      "Part 1:  236\n"
     ]
    }
   ],
   "source": [
    "# day 5 part 1\n",
    "input = np.genfromtxt(\"input5.txt\", dtype='str')\n",
    "data = np.array(list(map(list,input))).astype('str')\n",
    "\n",
    "# only consider strings with at least one repeating char\n",
    "nice_strings = np.sum(data[:,:-1] == data[:,1:], axis=1).astype(bool)\n",
    "\n",
    "# dont consider strings with 'ab, 'cd', 'pq' or 'xy\n",
    "for i in np.arange(len(input)):\n",
    "    nice_strings[i] = nice_strings[i] and not (\"ab\" in input[i] or \"cd\" in input[i] or \"pq\" in input[i] or \"xy\" in input[i])\n",
    "    nice_strings[i] = nice_strings[i] and ((input[i].count('a') + input[i].count('e') + input[i].count('i') + input[i].count('o') + input[i].count('u')) > 2)\n",
    "\n",
    "print(\"Part 1: \", np.sum(nice_strings))"
   ],
   "metadata": {
    "collapsed": false,
    "pycharm": {
     "name": "#%%\n"
    }
   }
  },
  {
   "cell_type": "code",
   "execution_count": 77,
   "outputs": [],
   "source": [
    "def check_two_letter_repetition(line):\n",
    "    for i in range(len(line)-3):\n",
    "        test = line[i:i+2]\n",
    "        if test in line[i+2:]:\n",
    "            return True\n",
    "    else:\n",
    "        return False"
   ],
   "metadata": {
    "collapsed": false,
    "pycharm": {
     "name": "#%%\n"
    }
   }
  },
  {
   "cell_type": "code",
   "execution_count": 78,
   "outputs": [
    {
     "name": "stdout",
     "output_type": "stream",
     "text": [
      "Part 1:  51\n"
     ]
    }
   ],
   "source": [
    "# day 5 part 2\n",
    "input = np.genfromtxt(\"input5.txt\", dtype='str')\n",
    "data = np.array(list(map(list,input))).astype('str')\n",
    "\n",
    "result_2 = 0\n",
    "\n",
    "# only consider strings with one letter which repeats with exactly one letter between them\n",
    "nice_strings = np.sum(data[:,:-2] == data[:,2:], axis=1).astype(bool)\n",
    "\n",
    "# dont consider strings with 'ab, 'cd', 'pq' or 'xy\n",
    "for line in input[nice_strings]:\n",
    "    result_2 += check_two_letter_repetition(line)\n",
    "\n",
    "print(\"Part 1: \", result_2)"
   ],
   "metadata": {
    "collapsed": false,
    "pycharm": {
     "name": "#%%\n"
    }
   }
  },
  {
   "cell_type": "markdown",
   "source": [
    "# Day 6"
   ],
   "metadata": {
    "collapsed": false,
    "pycharm": {
     "name": "#%% md\n"
    }
   }
  },
  {
   "cell_type": "code",
   "execution_count": null,
   "outputs": [],
   "source": [
    "# day 6\n"
   ],
   "metadata": {
    "collapsed": false,
    "pycharm": {
     "name": "#%%\n"
    }
   }
  }
 ],
 "metadata": {
  "kernelspec": {
   "display_name": "Python 3",
   "language": "python",
   "name": "python3"
  },
  "language_info": {
   "codemirror_mode": {
    "name": "ipython",
    "version": 2
   },
   "file_extension": ".py",
   "mimetype": "text/x-python",
   "name": "python",
   "nbconvert_exporter": "python",
   "pygments_lexer": "ipython2",
   "version": "2.7.6"
  }
 },
 "nbformat": 4,
 "nbformat_minor": 0
}